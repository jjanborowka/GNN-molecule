{
 "cells": [
  {
   "cell_type": "code",
   "execution_count": 1,
   "metadata": {},
   "outputs": [],
   "source": [
    "# Torch\n",
    "import torch\n",
    "import torch.nn as nn\n",
    "import torch.nn.functional as F\n",
    "from torch.utils.data import DataLoader\n",
    "import numpy as np\n",
    "from torch_geometric.nn import GCNConv\n",
    "from torch_geometric.nn import global_mean_pool\n",
    "from torch_geometric.data import DataLoader\n",
    "\n",
    "# OGB\n",
    "from ogb.graphproppred import PygGraphPropPredDataset\n",
    "\n",
    "# Utils\n",
    "import tqdm"
   ]
  },
  {
   "cell_type": "code",
   "execution_count": 2,
   "metadata": {},
   "outputs": [],
   "source": [
    "# useful stuff\n",
    "# https://colab.research.google.com/drive/1I8a0DfQ3fI7Njc62__mVXUlcAleUclnb#scrollTo=HvhgQoO8Svw4\n",
    "# https://ogb.stanford.edu/docs/graphprop/#ogbg-mol"
   ]
  },
  {
   "attachments": {},
   "cell_type": "markdown",
   "metadata": {},
   "source": [
    "### Data loading"
   ]
  },
  {
   "cell_type": "code",
   "execution_count": 3,
   "metadata": {},
   "outputs": [
    {
     "name": "stderr",
     "output_type": "stream",
     "text": [
      "c:\\Users\\janbo\\.conda\\envs\\future_financial_independence\\lib\\site-packages\\torch_geometric\\deprecation.py:22: UserWarning: 'data.DataLoader' is deprecated, use 'loader.DataLoader' instead\n",
      "  warnings.warn(out)\n"
     ]
    }
   ],
   "source": [
    "BATCH_SIZE = 32\n",
    "\n",
    "dataset = PygGraphPropPredDataset(name = \"ogbg-molhiv\")\n",
    "\n",
    "split_idx = dataset.get_idx_split() \n",
    "train_loader = DataLoader(dataset[split_idx[\"train\"]], batch_size=32, shuffle=True)\n",
    "valid_loader = DataLoader(dataset[split_idx[\"valid\"]], batch_size=32, shuffle=False)\n",
    "test_loader = DataLoader(dataset[split_idx[\"test\"]], batch_size=32, shuffle=False)"
   ]
  },
  {
   "cell_type": "code",
   "execution_count": 4,
   "metadata": {},
   "outputs": [
    {
     "name": "stdout",
     "output_type": "stream",
     "text": [
      "Data(edge_index=[2, 40], edge_attr=[40, 3], x=[19, 9], y=[1, 1], num_nodes=19)\n",
      "9\n",
      "tensor([[0],\n",
      "        [0],\n",
      "        [0],\n",
      "        ...,\n",
      "        [0],\n",
      "        [0],\n",
      "        [0]])\n",
      "Number of graphs: 41127\n",
      "Class balance: 1443\n"
     ]
    }
   ],
   "source": [
    "# Example of molecule graph and target label\n",
    "print(dataset[0])\n",
    "print(dataset.num_node_features)\n",
    "print(dataset.y)\n",
    "print(f\"Number of graphs: {len(dataset)}\")\n",
    "print(f\"Class balance: {dataset.y.sum()}\")"
   ]
  },
  {
   "attachments": {},
   "cell_type": "markdown",
   "metadata": {},
   "source": [
    "### GCN model"
   ]
  },
  {
   "cell_type": "code",
   "execution_count": 5,
   "metadata": {},
   "outputs": [],
   "source": [
    "class GCN(torch.nn.Module):\n",
    "    def __init__(self, hidden_channels):\n",
    "        super(GCN, self).__init__()\n",
    "        self.conv1 = GCNConv(dataset.num_node_features, hidden_channels)\n",
    "        self.conv2 = GCNConv(hidden_channels, hidden_channels)\n",
    "        self.lin = nn.Linear(hidden_channels, dataset.num_classes )\n",
    "\n",
    "    def forward(self, x, edge_index, batch):\n",
    "        # Conv layers\n",
    "        x = self.conv1(x, edge_index)\n",
    "        x = x.relu()\n",
    "        x = self.conv2(x, edge_index)\n",
    "        # Readout layer\n",
    "        x = global_mean_pool(x, batch)\n",
    "        x = self.lin(x)\n",
    "        return x"
   ]
  },
  {
   "cell_type": "code",
   "execution_count": 6,
   "metadata": {},
   "outputs": [],
   "source": [
    "def train(model, optimizer, loss_fun):\n",
    "    for data in train_loader:\n",
    "        out = model(data.x.float(), data.edge_index, data.batch)\n",
    "        loss = loss_fun(out, torch.reshape(data.y, (-1,)))\n",
    "        loss.backward()\n",
    "        optimizer.step()\n",
    "        optimizer.zero_grad()"
   ]
  },
  {
   "cell_type": "code",
   "execution_count": 7,
   "metadata": {},
   "outputs": [],
   "source": [
    "def validate(loader, model):\n",
    "    model.eval()\n",
    "    correct = 0\n",
    "    for data in loader:\n",
    "        out = model(data.x.float(), data.edge_index, data.batch)  \n",
    "        pred = out.argmax(dim=1)\n",
    "        correct += int((pred == torch.reshape(data.y, (-1,))).sum())\n",
    "    acc = correct / len(loader.dataset)\n",
    "    return acc"
   ]
  },
  {
   "cell_type": "code",
   "execution_count": 8,
   "metadata": {},
   "outputs": [
    {
     "name": "stderr",
     "output_type": "stream",
     "text": [
      "  0%|          | 0/20 [00:00<?, ?it/s]"
     ]
    },
    {
     "name": "stderr",
     "output_type": "stream",
     "text": [
      "100%|██████████| 20/20 [03:12<00:00,  9.61s/it]\n"
     ]
    },
    {
     "name": "stdout",
     "output_type": "stream",
     "text": [
      "Epoch: 19, Train ACC: 0.9625543296556336, Val ACC: 0.9803063457330415\n"
     ]
    }
   ],
   "source": [
    "model = GCN(4)\n",
    "optimizer = torch.optim.Adam(model.parameters(), lr=0.01)\n",
    "loss_fun = nn.CrossEntropyLoss()\n",
    "\n",
    "model.train()\n",
    "for epoch in tqdm.tqdm(range(20)):\n",
    "    train(model, optimizer, loss_fun)\n",
    "\n",
    "print(f\"Epoch: {epoch}, Train ACC: {validate(train_loader, model)}, Val ACC: {validate(valid_loader, model)}\")\n",
    "    "
   ]
  },
  {
   "cell_type": "code",
   "execution_count": 9,
   "metadata": {},
   "outputs": [
    {
     "name": "stdout",
     "output_type": "stream",
     "text": [
      "Test ACC: 0.9683929005592026\n"
     ]
    }
   ],
   "source": [
    "print(f\"Test ACC: {validate(test_loader, model)}\")"
   ]
  },
  {
   "cell_type": "code",
   "execution_count": 10,
   "metadata": {},
   "outputs": [],
   "source": [
    "# tutaj jest też metryka do tego datasetu (lub po prostu ROC-AUC)\n",
    "# https://ogb.stanford.edu/docs/graphprop/#ogbg-mol"
   ]
  },
  {
   "cell_type": "code",
   "execution_count": 18,
   "metadata": {},
   "outputs": [],
   "source": [
    "# calculating AUC \n",
    "\n",
    "from sklearn.metrics import roc_auc_score\n",
    "\n",
    "\n",
    "def calc_auc(loader, model):\n",
    "    model.eval()\n",
    "    y_true = []\n",
    "    y_pred = []\n",
    "    for data in loader:\n",
    "        out = model(data.x.float(), data.edge_index, data.batch)  \n",
    "        \n",
    "        y_true.append(data.y)\n",
    "        \n",
    "        # softmax to get probabilities\n",
    "        y_pred.append(F.softmax(out, dim=1)[:, 1])\n",
    "\n",
    "    return roc_auc_score(torch.cat(y_true).detach().numpy(), torch.cat(y_pred).detach().numpy())"
   ]
  },
  {
   "cell_type": "code",
   "execution_count": 19,
   "metadata": {},
   "outputs": [
    {
     "data": {
      "text/plain": [
       "0.5952201582480798"
      ]
     },
     "execution_count": 19,
     "metadata": {},
     "output_type": "execute_result"
    }
   ],
   "source": [
    "calc_auc(train_loader,model)\n",
    "\n",
    "\n",
    "\n"
   ]
  },
  {
   "cell_type": "code",
   "execution_count": 20,
   "metadata": {},
   "outputs": [
    {
     "name": "stderr",
     "output_type": "stream",
     "text": [
      "  0%|          | 0/20 [00:00<?, ?it/s]"
     ]
    },
    {
     "name": "stderr",
     "output_type": "stream",
     "text": [
      "100%|██████████| 20/20 [02:58<00:00,  8.94s/it]\n"
     ]
    },
    {
     "name": "stdout",
     "output_type": "stream",
     "text": [
      "hidden_channel: 2\n",
      "Epoch: 19, Train AUC: 0.5719013364907221, Val AUC: 0.6076098006074858\n"
     ]
    },
    {
     "name": "stderr",
     "output_type": "stream",
     "text": [
      "100%|██████████| 20/20 [03:11<00:00,  9.58s/it]\n"
     ]
    },
    {
     "name": "stdout",
     "output_type": "stream",
     "text": [
      "hidden_channel: 8\n",
      "Epoch: 19, Train AUC: 0.5812376743531816, Val AUC: 0.5945415074466\n"
     ]
    },
    {
     "name": "stderr",
     "output_type": "stream",
     "text": [
      " 10%|█         | 2/20 [04:38<34:54, 116.37s/it]  "
     ]
    }
   ],
   "source": [
    "## Train parmeter \n",
    "hidden_channels = [2,8,16,32,64,128,256]\n",
    "\n",
    "for hidden_channel in hidden_channels:\n",
    "    model = GCN(hidden_channel)\n",
    "    optimizer = torch.optim.Adam(model.parameters(), lr=0.01)\n",
    "    loss_fun = nn.CrossEntropyLoss()\n",
    "\n",
    "    model.train()\n",
    "    for epoch in tqdm.tqdm(range(20)):\n",
    "        train(model, optimizer, loss_fun)\n",
    "\n",
    "    print(f\"hidden_channel: {hidden_channel}\")\n",
    "    print(f\"Epoch: {epoch}, Train AUC: {calc_auc(train_loader, model)}, Val AUC: {calc_auc(valid_loader, model)}\")\n",
    "    #print(f\"Test ACC: {validate(test_loader, model)}\")\n",
    "    #print(f\"Test AUC: {calc_auc(test_loader,model)}\")"
   ]
  },
  {
   "cell_type": "code",
   "execution_count": null,
   "metadata": {},
   "outputs": [
    {
     "data": {
      "text/plain": [
       "array([[ 0., -1.],\n",
       "       [ 0., -1.],\n",
       "       [ 0., -1.],\n",
       "       [ 0., -1.],\n",
       "       [ 0., -1.],\n",
       "       [ 0., -1.],\n",
       "       [ 0., -1.],\n",
       "       [ 0., -1.],\n",
       "       [ 0., -1.],\n",
       "       [ 0., -1.],\n",
       "       [ 0., -1.],\n",
       "       [ 0., -1.],\n",
       "       [ 0., -1.],\n",
       "       [ 0., -1.],\n",
       "       [ 0., -1.],\n",
       "       [ 0., -1.],\n",
       "       [ 0., -1.],\n",
       "       [ 0., -1.],\n",
       "       [ 0., -1.],\n",
       "       [ 0., -1.],\n",
       "       [ 0., -1.],\n",
       "       [ 0., -1.],\n",
       "       [ 0., -1.],\n",
       "       [ 0., -1.],\n",
       "       [ 0., -1.],\n",
       "       [ 0., -1.],\n",
       "       [ 0., -1.],\n",
       "       [ 0., -1.],\n",
       "       [ 0., -1.],\n",
       "       [ 0., -1.],\n",
       "       [ 0., -1.],\n",
       "       [ 0., -1.]], dtype=float32)"
      ]
     },
     "execution_count": 66,
     "metadata": {},
     "output_type": "execute_result"
    }
   ],
   "source": []
  }
 ],
 "metadata": {
  "kernelspec": {
   "display_name": "graphs",
   "language": "python",
   "name": "python3"
  },
  "language_info": {
   "codemirror_mode": {
    "name": "ipython",
    "version": 3
   },
   "file_extension": ".py",
   "mimetype": "text/x-python",
   "name": "python",
   "nbconvert_exporter": "python",
   "pygments_lexer": "ipython3",
   "version": "3.10.8"
  },
  "orig_nbformat": 4
 },
 "nbformat": 4,
 "nbformat_minor": 2
}
